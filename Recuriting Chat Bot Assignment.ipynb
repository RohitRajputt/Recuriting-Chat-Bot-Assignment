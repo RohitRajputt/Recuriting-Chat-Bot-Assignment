{
 "cells": [
  {
   "cell_type": "code",
   "execution_count": 1,
   "id": "6f2e1b9f",
   "metadata": {},
   "outputs": [],
   "source": [
    "jobs = {1 : {1: \"OLA\",    2: \"UBER\",      3: \"Personal Driver\", 4: \"Driver\"},\n",
    "        2 : {1: \"Zomato\", 2: \"Swiggy\",    3: \"Burger King\",     4: \"Domino's Pizza\"},\n",
    "        3 : {1: \"Oyo\",    2: \"Taj Hotel\", 3: \"Personal House\",  4: \"Other Hotels\"},\n",
    "        4 : {1: \"Zomato\", 2: \"Swiggy\",    3: \"Burger King\",     4: \"Domino's Pizza\"},\n",
    "        5 : {1: \"Tata\",   2: \"Reliance\",  3: \"Mall\",            4: \"Tata\"}}\n",
    "\n",
    "salary = {1 : \"5k  - 8k\",\n",
    "          2 : \"8k  - 10k\",\n",
    "          3 : \"10k - 12k\",\n",
    "          4 : \"12k - 15k\",\n",
    "          5 : \"15k - 20k\"}"
   ]
  },
  {
   "cell_type": "code",
   "execution_count": 6,
   "id": "7b749411",
   "metadata": {},
   "outputs": [
    {
     "name": "stdout",
     "output_type": "stream",
     "text": [
      "Hello welcome to AWESOME JOBS\n",
      "We will together find a better job for you.\n",
      "\n",
      "\n",
      "------------------------\n",
      "Q1: Tell me, what is your full name?\n",
      "Simran Rajput\n",
      "Q2: Which city are you from? \n",
      "Delhi\n",
      "Q3: Great. What's your gender? \n",
      "Male or Female \n",
      "Female\n",
      "Q4: How old are you? \n",
      "23\n",
      "------------------------\n",
      "\n",
      "This is exciting.\n",
      "I already have found more than 300 jobs that you might like.\n",
      "\n",
      "\n",
      "What kind of jobs do you like?\n",
      "1: Driver\n",
      "2: Cook\n",
      "3: Maid\n",
      "4: Delivery Person\n",
      "5: Repair Person\n",
      "\n",
      "Press any of the following number: 1\n",
      "\n",
      "Job Options:\n",
      "\n",
      " {1: 'OLA', 2: 'UBER', 3: 'Personal Driver', 4: 'Driver'}\n",
      "\n",
      "Select the Job you like\n",
      "Enter the following no. Respectively: 1\n",
      "------------------------\n",
      "1 : 5k  - 8k\n",
      "2 : 8k  - 10k\n",
      "3 : 10k - 12k\n",
      "4 : 12k - 15k\n",
      "5 : 15k - 20k\n",
      "------------------------\n",
      "Enter Your Salary Expectation\n",
      "Press any of the following number:1\n"
     ]
    }
   ],
   "source": [
    "print(\"Hello welcome to AWESOME JOBS\")\n",
    "print(\"We will together find a better job for you.\\n\")\n",
    "\n",
    "print(\"\\n------------------------\")\n",
    "name =    input('Q1: Tell me, what is your full name?\\n')\n",
    "city =    input('Q2: Which city are you from? \\n')\n",
    "gender =  input(\"Q3: Great. What's your gender? \\nMale or Female \\n\")\n",
    "age =     input(\"Q4: How old are you? \\n\")\n",
    "print(\"------------------------\")\n",
    "\n",
    "print('''\\nThis is exciting.\n",
    "I already have found more than 300 jobs that you might like.''')\n",
    "\n",
    "print(\"\\n\\nWhat kind of jobs do you like?\\n1: Driver\\n2: Cook\\n3: Maid\\n4: Delivery Person\\n5: Repair Person\\n\")\n",
    "num = int(input('Press any of the following number: '))\n",
    "\n",
    "print(\"\\nJob Options:\")\n",
    "print(\"\\n\",jobs[num])\n",
    "\n",
    "jj = int(input(\"\\nSelect the Job you like\\nEnter the following no. Respectively: \"))\n",
    "print(\"------------------------\")\n",
    "for i in salary.keys():\n",
    "    print(i, \":\" ,salary[i])\n",
    "print(\"------------------------\")\n",
    "\n",
    "sal = int(input('Enter Your Salary Expectation\\nPress any of the following number:'))"
   ]
  },
  {
   "cell_type": "code",
   "execution_count": 7,
   "id": "fbaf98eb",
   "metadata": {},
   "outputs": [
    {
     "name": "stdout",
     "output_type": "stream",
     "text": [
      "----------------User Details---------------\n",
      "Name                 :  Simran Rajput\n",
      "Age                  :  23\n",
      "Gender               :  Female\n",
      "City                 :  Delhi\n",
      "Job Role             :  OLA\n",
      "Salary Expectations  :  5k  - 8k\n",
      "--------------------------------------------\n"
     ]
    }
   ],
   "source": [
    "print(\"----------------User Details---------------\")\n",
    "\n",
    "print(\"Name                 : \",name)\n",
    "print(\"Age                  : \",age)\n",
    "print(\"Gender               : \",gender)\n",
    "print(\"City                 : \",city)\n",
    "print(\"Job Role             : \",jobs[num][jj])\n",
    "print(\"Salary Expectations  : \",salary[sal])\n",
    "print(\"--------------------------------------------\")"
   ]
  },
  {
   "cell_type": "code",
   "execution_count": 8,
   "id": "39c11f0a",
   "metadata": {},
   "outputs": [],
   "source": [
    "record = \"Name = \" + name + \" , \" + \"Age = \" + age + \" , \" + \"Gender = \" + gender + \" , \" + \"City = \" + city + \" , \" + \"Job Role = \" + jobs[num][jj] + \" , \" + \"Salary Expections = \" + salary[sal]                         "
   ]
  },
  {
   "cell_type": "code",
   "execution_count": 9,
   "id": "ccf731f0",
   "metadata": {},
   "outputs": [],
   "source": [
    "fd = open('Sales.txt', 'a')\n",
    "\n",
    "fd.write(record + \"\\n\")\n",
    "\n",
    "fd.close()"
   ]
  },
  {
   "cell_type": "code",
   "execution_count": null,
   "id": "e98e2a0f",
   "metadata": {},
   "outputs": [],
   "source": []
  }
 ],
 "metadata": {
  "kernelspec": {
   "display_name": "Python 3",
   "language": "python",
   "name": "python3"
  },
  "language_info": {
   "codemirror_mode": {
    "name": "ipython",
    "version": 3
   },
   "file_extension": ".py",
   "mimetype": "text/x-python",
   "name": "python",
   "nbconvert_exporter": "python",
   "pygments_lexer": "ipython3",
   "version": "3.8.8"
  }
 },
 "nbformat": 4,
 "nbformat_minor": 5
}
